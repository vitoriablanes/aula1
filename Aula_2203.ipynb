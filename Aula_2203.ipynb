{
  "nbformat": 4,
  "nbformat_minor": 0,
  "metadata": {
    "colab": {
      "provenance": [],
      "include_colab_link": true
    },
    "kernelspec": {
      "name": "python3",
      "display_name": "Python 3"
    },
    "language_info": {
      "name": "python"
    }
  },
  "cells": [
    {
      "cell_type": "markdown",
      "metadata": {
        "id": "view-in-github",
        "colab_type": "text"
      },
      "source": [
        "<a href=\"https://colab.research.google.com/github/vitoriablanes/aula1/blob/main/Aula_2203.ipynb\" target=\"_parent\"><img src=\"https://colab.research.google.com/assets/colab-badge.svg\" alt=\"Open In Colab\"/></a>"
      ]
    },
    {
      "cell_type": "code",
      "execution_count": null,
      "metadata": {
        "colab": {
          "base_uri": "https://localhost:8080/"
        },
        "id": "DIrxXSCqG1RY",
        "outputId": "c2074f10-03be-4f97-b5a3-2d59bb50a4dd"
      },
      "outputs": [
        {
          "output_type": "stream",
          "name": "stdout",
          "text": [
            "teste aula 1\n"
          ]
        }
      ],
      "source": [
        "print('teste aula 1')"
      ]
    },
    {
      "cell_type": "code",
      "source": [
        "print(\"Oi vitoria\")"
      ],
      "metadata": {
        "id": "ZFEcx2LlG5a8",
        "outputId": "8a509365-8416-4625-e656-54c607ac351c",
        "colab": {
          "base_uri": "https://localhost:8080/"
        }
      },
      "execution_count": null,
      "outputs": [
        {
          "output_type": "stream",
          "name": "stdout",
          "text": [
            "Oi vitoria\n"
          ]
        }
      ]
    },
    {
      "cell_type": "code",
      "source": [
        "print('oi joel')"
      ],
      "metadata": {
        "colab": {
          "base_uri": "https://localhost:8080/"
        },
        "id": "ip-me76kKRb7",
        "outputId": "bd3aeedd-7803-4130-e6c2-aaadcb9f936c"
      },
      "execution_count": 2,
      "outputs": [
        {
          "output_type": "stream",
          "name": "stdout",
          "text": [
            "oi joel\n"
          ]
        }
      ]
    },
    {
      "cell_type": "code",
      "source": [],
      "metadata": {
        "id": "N6NcQle4KTQm"
      },
      "execution_count": null,
      "outputs": []
    }
  ]
}